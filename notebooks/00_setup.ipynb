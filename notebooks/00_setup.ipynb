{
 "cells": [
  {
   "cell_type": "code",
   "execution_count": 1,
   "id": "5d96ff9f-5201-47ff-b04b-cbce42301c45",
   "metadata": {},
   "outputs": [
    {
     "name": "stdout",
     "output_type": "stream",
     "text": [
      "Repo root added to sys.path: C:\\Users\\ASHISH\\Desktop\\Optiv\\src\n"
     ]
    }
   ],
   "source": [
    "# Make sure Python can see your src folder\n",
    "import os, sys\n",
    "repo_root = os.path.abspath(\"..\")  # go up one level from notebooks/\n",
    "if repo_root not in sys.path:\n",
    "    sys.path.append(os.path.join(repo_root, \"src\"))\n",
    "\n",
    "print(\"Repo root added to sys.path:\", sys.path[-1])\n"
   ]
  },
  {
   "cell_type": "code",
   "execution_count": 2,
   "id": "761c0cd0-7b60-4b71-91ac-0df68a833997",
   "metadata": {},
   "outputs": [
    {
     "ename": "AttributeError",
     "evalue": "module 'extractors.document_extractor' has no attribute 'placeholder'",
     "output_type": "error",
     "traceback": [
      "\u001b[31m---------------------------------------------------------------------------\u001b[39m",
      "\u001b[31mAttributeError\u001b[39m                            Traceback (most recent call last)",
      "\u001b[36mCell\u001b[39m\u001b[36m \u001b[39m\u001b[32mIn[2]\u001b[39m\u001b[32m, line 5\u001b[39m\n\u001b[32m      3\u001b[39m \u001b[38;5;66;03m# This will error until you replace with real code\u001b[39;00m\n\u001b[32m      4\u001b[39m \u001b[38;5;28;01mtry\u001b[39;00m:\n\u001b[32m----> \u001b[39m\u001b[32m5\u001b[39m     \u001b[43mdocument_extractor\u001b[49m\u001b[43m.\u001b[49m\u001b[43mplaceholder\u001b[49m()\n\u001b[32m      6\u001b[39m \u001b[38;5;28;01mexcept\u001b[39;00m \u001b[38;5;167;01mNotImplementedError\u001b[39;00m \u001b[38;5;28;01mas\u001b[39;00m e:\n\u001b[32m      7\u001b[39m     \u001b[38;5;28mprint\u001b[39m(\u001b[33m\"\u001b[39m\u001b[33mWorks as expected:\u001b[39m\u001b[33m\"\u001b[39m, e)\n",
      "\u001b[31mAttributeError\u001b[39m: module 'extractors.document_extractor' has no attribute 'placeholder'"
     ]
    }
   ],
   "source": [
    "from extractors import document_extractor\n",
    "\n",
    "# This will error until you replace with real code\n",
    "try:\n",
    "    document_extractor.placeholder()\n",
    "except NotImplementedError as e:\n",
    "    print(\"Works as expected:\", e)\n"
   ]
  },
  {
   "cell_type": "code",
   "execution_count": null,
   "id": "606394e3-8d16-499c-be80-b8e39fcb72af",
   "metadata": {},
   "outputs": [],
   "source": []
  }
 ],
 "metadata": {
  "kernelspec": {
   "display_name": "Python 3 (ipykernel)",
   "language": "python",
   "name": "python3"
  },
  "language_info": {
   "codemirror_mode": {
    "name": "ipython",
    "version": 3
   },
   "file_extension": ".py",
   "mimetype": "text/x-python",
   "name": "python",
   "nbconvert_exporter": "python",
   "pygments_lexer": "ipython3",
   "version": "3.11.0"
  }
 },
 "nbformat": 4,
 "nbformat_minor": 5
}
