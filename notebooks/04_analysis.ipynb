{
 "cells": [
  {
   "cell_type": "code",
   "execution_count": null,
   "id": "c319191c-76dd-434d-b953-c7c0d9322009",
   "metadata": {},
   "outputs": [],
   "source": []
  }
 ],
 "metadata": {
  "kernelspec": {
   "display_name": "",
   "name": ""
  },
  "language_info": {
   "name": ""
  }
 },
 "nbformat": 4,
 "nbformat_minor": 5
}
